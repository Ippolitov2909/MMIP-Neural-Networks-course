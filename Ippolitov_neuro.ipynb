{
  "nbformat": 4,
  "nbformat_minor": 0,
  "metadata": {
    "accelerator": "GPU",
    "colab": {
      "name": "problem_1_starter (1).ipynb",
      "provenance": [],
      "collapsed_sections": []
    },
    "kernelspec": {
      "display_name": "Python 3",
      "language": "python",
      "name": "python3"
    },
    "language_info": {
      "codemirror_mode": {
        "name": "ipython",
        "version": 3
      },
      "file_extension": ".py",
      "mimetype": "text/x-python",
      "name": "python",
      "nbconvert_exporter": "python",
      "pygments_lexer": "ipython3",
      "version": "3.7.3"
    },
    "widgets": {
      "application/vnd.jupyter.widget-state+json": {
        "aa7365dc9a494914be4ff4d1bf2f4691": {
          "model_module": "@jupyter-widgets/controls",
          "model_name": "HBoxModel",
          "state": {
            "_view_name": "HBoxView",
            "_dom_classes": [],
            "_model_name": "HBoxModel",
            "_view_module": "@jupyter-widgets/controls",
            "_model_module_version": "1.5.0",
            "_view_count": null,
            "_view_module_version": "1.5.0",
            "box_style": "",
            "layout": "IPY_MODEL_9a5dfe7314884daaa4d30f1262f2f666",
            "_model_module": "@jupyter-widgets/controls",
            "children": [
              "IPY_MODEL_71a5e884621443ceafbaa2218e31976e",
              "IPY_MODEL_3b498434282c46068f018a29577ec75a"
            ]
          }
        },
        "9a5dfe7314884daaa4d30f1262f2f666": {
          "model_module": "@jupyter-widgets/base",
          "model_name": "LayoutModel",
          "state": {
            "_view_name": "LayoutView",
            "grid_template_rows": null,
            "right": null,
            "justify_content": null,
            "_view_module": "@jupyter-widgets/base",
            "overflow": null,
            "_model_module_version": "1.2.0",
            "_view_count": null,
            "flex_flow": null,
            "width": null,
            "min_width": null,
            "border": null,
            "align_items": null,
            "bottom": null,
            "_model_module": "@jupyter-widgets/base",
            "top": null,
            "grid_column": null,
            "overflow_y": null,
            "overflow_x": null,
            "grid_auto_flow": null,
            "grid_area": null,
            "grid_template_columns": null,
            "flex": null,
            "_model_name": "LayoutModel",
            "justify_items": null,
            "grid_row": null,
            "max_height": null,
            "align_content": null,
            "visibility": null,
            "align_self": null,
            "height": null,
            "min_height": null,
            "padding": null,
            "grid_auto_rows": null,
            "grid_gap": null,
            "max_width": null,
            "order": null,
            "_view_module_version": "1.2.0",
            "grid_template_areas": null,
            "object_position": null,
            "object_fit": null,
            "grid_auto_columns": null,
            "margin": null,
            "display": null,
            "left": null
          }
        },
        "71a5e884621443ceafbaa2218e31976e": {
          "model_module": "@jupyter-widgets/controls",
          "model_name": "FloatProgressModel",
          "state": {
            "_view_name": "ProgressView",
            "style": "IPY_MODEL_0843921ed8ff46949581981f1c1268ab",
            "_dom_classes": [],
            "description": "100%",
            "_model_name": "FloatProgressModel",
            "bar_style": "success",
            "max": 450,
            "_view_module": "@jupyter-widgets/controls",
            "_model_module_version": "1.5.0",
            "value": 450,
            "_view_count": null,
            "_view_module_version": "1.5.0",
            "orientation": "horizontal",
            "min": 0,
            "description_tooltip": null,
            "_model_module": "@jupyter-widgets/controls",
            "layout": "IPY_MODEL_97d84dea0b874535a8d240a8f0569c4e"
          }
        },
        "3b498434282c46068f018a29577ec75a": {
          "model_module": "@jupyter-widgets/controls",
          "model_name": "HTMLModel",
          "state": {
            "_view_name": "HTMLView",
            "style": "IPY_MODEL_8672016db9a24ca89d17c90e1684ef2c",
            "_dom_classes": [],
            "description": "",
            "_model_name": "HTMLModel",
            "placeholder": "​",
            "_view_module": "@jupyter-widgets/controls",
            "_model_module_version": "1.5.0",
            "value": " 450/450 [00:02&lt;00:00, 197.98it/s]",
            "_view_count": null,
            "_view_module_version": "1.5.0",
            "description_tooltip": null,
            "_model_module": "@jupyter-widgets/controls",
            "layout": "IPY_MODEL_d08eb65d17354bc982f39178edf2fd98"
          }
        },
        "0843921ed8ff46949581981f1c1268ab": {
          "model_module": "@jupyter-widgets/controls",
          "model_name": "ProgressStyleModel",
          "state": {
            "_view_name": "StyleView",
            "_model_name": "ProgressStyleModel",
            "description_width": "initial",
            "_view_module": "@jupyter-widgets/base",
            "_model_module_version": "1.5.0",
            "_view_count": null,
            "_view_module_version": "1.2.0",
            "bar_color": null,
            "_model_module": "@jupyter-widgets/controls"
          }
        },
        "97d84dea0b874535a8d240a8f0569c4e": {
          "model_module": "@jupyter-widgets/base",
          "model_name": "LayoutModel",
          "state": {
            "_view_name": "LayoutView",
            "grid_template_rows": null,
            "right": null,
            "justify_content": null,
            "_view_module": "@jupyter-widgets/base",
            "overflow": null,
            "_model_module_version": "1.2.0",
            "_view_count": null,
            "flex_flow": null,
            "width": null,
            "min_width": null,
            "border": null,
            "align_items": null,
            "bottom": null,
            "_model_module": "@jupyter-widgets/base",
            "top": null,
            "grid_column": null,
            "overflow_y": null,
            "overflow_x": null,
            "grid_auto_flow": null,
            "grid_area": null,
            "grid_template_columns": null,
            "flex": null,
            "_model_name": "LayoutModel",
            "justify_items": null,
            "grid_row": null,
            "max_height": null,
            "align_content": null,
            "visibility": null,
            "align_self": null,
            "height": null,
            "min_height": null,
            "padding": null,
            "grid_auto_rows": null,
            "grid_gap": null,
            "max_width": null,
            "order": null,
            "_view_module_version": "1.2.0",
            "grid_template_areas": null,
            "object_position": null,
            "object_fit": null,
            "grid_auto_columns": null,
            "margin": null,
            "display": null,
            "left": null
          }
        },
        "8672016db9a24ca89d17c90e1684ef2c": {
          "model_module": "@jupyter-widgets/controls",
          "model_name": "DescriptionStyleModel",
          "state": {
            "_view_name": "StyleView",
            "_model_name": "DescriptionStyleModel",
            "description_width": "",
            "_view_module": "@jupyter-widgets/base",
            "_model_module_version": "1.5.0",
            "_view_count": null,
            "_view_module_version": "1.2.0",
            "_model_module": "@jupyter-widgets/controls"
          }
        },
        "d08eb65d17354bc982f39178edf2fd98": {
          "model_module": "@jupyter-widgets/base",
          "model_name": "LayoutModel",
          "state": {
            "_view_name": "LayoutView",
            "grid_template_rows": null,
            "right": null,
            "justify_content": null,
            "_view_module": "@jupyter-widgets/base",
            "overflow": null,
            "_model_module_version": "1.2.0",
            "_view_count": null,
            "flex_flow": null,
            "width": null,
            "min_width": null,
            "border": null,
            "align_items": null,
            "bottom": null,
            "_model_module": "@jupyter-widgets/base",
            "top": null,
            "grid_column": null,
            "overflow_y": null,
            "overflow_x": null,
            "grid_auto_flow": null,
            "grid_area": null,
            "grid_template_columns": null,
            "flex": null,
            "_model_name": "LayoutModel",
            "justify_items": null,
            "grid_row": null,
            "max_height": null,
            "align_content": null,
            "visibility": null,
            "align_self": null,
            "height": null,
            "min_height": null,
            "padding": null,
            "grid_auto_rows": null,
            "grid_gap": null,
            "max_width": null,
            "order": null,
            "_view_module_version": "1.2.0",
            "grid_template_areas": null,
            "object_position": null,
            "object_fit": null,
            "grid_auto_columns": null,
            "margin": null,
            "display": null,
            "left": null
          }
        },
        "0ed129451abd476ba7f4d7e4e218396b": {
          "model_module": "@jupyter-widgets/controls",
          "model_name": "HBoxModel",
          "state": {
            "_view_name": "HBoxView",
            "_dom_classes": [],
            "_model_name": "HBoxModel",
            "_view_module": "@jupyter-widgets/controls",
            "_model_module_version": "1.5.0",
            "_view_count": null,
            "_view_module_version": "1.5.0",
            "box_style": "",
            "layout": "IPY_MODEL_a5bedcbb68da4c929b0b1625bc96d582",
            "_model_module": "@jupyter-widgets/controls",
            "children": [
              "IPY_MODEL_eeeab83ae4704cb6a90d8b0489e8d257",
              "IPY_MODEL_477ae5ee11084fa3bb1af815e5693fbd"
            ]
          }
        },
        "a5bedcbb68da4c929b0b1625bc96d582": {
          "model_module": "@jupyter-widgets/base",
          "model_name": "LayoutModel",
          "state": {
            "_view_name": "LayoutView",
            "grid_template_rows": null,
            "right": null,
            "justify_content": null,
            "_view_module": "@jupyter-widgets/base",
            "overflow": null,
            "_model_module_version": "1.2.0",
            "_view_count": null,
            "flex_flow": null,
            "width": null,
            "min_width": null,
            "border": null,
            "align_items": null,
            "bottom": null,
            "_model_module": "@jupyter-widgets/base",
            "top": null,
            "grid_column": null,
            "overflow_y": null,
            "overflow_x": null,
            "grid_auto_flow": null,
            "grid_area": null,
            "grid_template_columns": null,
            "flex": null,
            "_model_name": "LayoutModel",
            "justify_items": null,
            "grid_row": null,
            "max_height": null,
            "align_content": null,
            "visibility": null,
            "align_self": null,
            "height": null,
            "min_height": null,
            "padding": null,
            "grid_auto_rows": null,
            "grid_gap": null,
            "max_width": null,
            "order": null,
            "_view_module_version": "1.2.0",
            "grid_template_areas": null,
            "object_position": null,
            "object_fit": null,
            "grid_auto_columns": null,
            "margin": null,
            "display": null,
            "left": null
          }
        },
        "eeeab83ae4704cb6a90d8b0489e8d257": {
          "model_module": "@jupyter-widgets/controls",
          "model_name": "FloatProgressModel",
          "state": {
            "_view_name": "ProgressView",
            "style": "IPY_MODEL_3693ed385f5247e7b468d66dadec8fa1",
            "_dom_classes": [],
            "description": "100%",
            "_model_name": "FloatProgressModel",
            "bar_style": "success",
            "max": 4500,
            "_view_module": "@jupyter-widgets/controls",
            "_model_module_version": "1.5.0",
            "value": 4500,
            "_view_count": null,
            "_view_module_version": "1.5.0",
            "orientation": "horizontal",
            "min": 0,
            "description_tooltip": null,
            "_model_module": "@jupyter-widgets/controls",
            "layout": "IPY_MODEL_8abb0d95b4d043dd9319f795befa7e2b"
          }
        },
        "477ae5ee11084fa3bb1af815e5693fbd": {
          "model_module": "@jupyter-widgets/controls",
          "model_name": "HTMLModel",
          "state": {
            "_view_name": "HTMLView",
            "style": "IPY_MODEL_542d3f30da8e412784327cbf1e7a3a62",
            "_dom_classes": [],
            "description": "",
            "_model_name": "HTMLModel",
            "placeholder": "​",
            "_view_module": "@jupyter-widgets/controls",
            "_model_module_version": "1.5.0",
            "value": " 4500/4500 [00:32&lt;00:00, 137.86it/s]",
            "_view_count": null,
            "_view_module_version": "1.5.0",
            "description_tooltip": null,
            "_model_module": "@jupyter-widgets/controls",
            "layout": "IPY_MODEL_6aab4f1b81bf44dc8bfeb4dd9a5e18e1"
          }
        },
        "3693ed385f5247e7b468d66dadec8fa1": {
          "model_module": "@jupyter-widgets/controls",
          "model_name": "ProgressStyleModel",
          "state": {
            "_view_name": "StyleView",
            "_model_name": "ProgressStyleModel",
            "description_width": "initial",
            "_view_module": "@jupyter-widgets/base",
            "_model_module_version": "1.5.0",
            "_view_count": null,
            "_view_module_version": "1.2.0",
            "bar_color": null,
            "_model_module": "@jupyter-widgets/controls"
          }
        },
        "8abb0d95b4d043dd9319f795befa7e2b": {
          "model_module": "@jupyter-widgets/base",
          "model_name": "LayoutModel",
          "state": {
            "_view_name": "LayoutView",
            "grid_template_rows": null,
            "right": null,
            "justify_content": null,
            "_view_module": "@jupyter-widgets/base",
            "overflow": null,
            "_model_module_version": "1.2.0",
            "_view_count": null,
            "flex_flow": null,
            "width": null,
            "min_width": null,
            "border": null,
            "align_items": null,
            "bottom": null,
            "_model_module": "@jupyter-widgets/base",
            "top": null,
            "grid_column": null,
            "overflow_y": null,
            "overflow_x": null,
            "grid_auto_flow": null,
            "grid_area": null,
            "grid_template_columns": null,
            "flex": null,
            "_model_name": "LayoutModel",
            "justify_items": null,
            "grid_row": null,
            "max_height": null,
            "align_content": null,
            "visibility": null,
            "align_self": null,
            "height": null,
            "min_height": null,
            "padding": null,
            "grid_auto_rows": null,
            "grid_gap": null,
            "max_width": null,
            "order": null,
            "_view_module_version": "1.2.0",
            "grid_template_areas": null,
            "object_position": null,
            "object_fit": null,
            "grid_auto_columns": null,
            "margin": null,
            "display": null,
            "left": null
          }
        },
        "542d3f30da8e412784327cbf1e7a3a62": {
          "model_module": "@jupyter-widgets/controls",
          "model_name": "DescriptionStyleModel",
          "state": {
            "_view_name": "StyleView",
            "_model_name": "DescriptionStyleModel",
            "description_width": "",
            "_view_module": "@jupyter-widgets/base",
            "_model_module_version": "1.5.0",
            "_view_count": null,
            "_view_module_version": "1.2.0",
            "_model_module": "@jupyter-widgets/controls"
          }
        },
        "6aab4f1b81bf44dc8bfeb4dd9a5e18e1": {
          "model_module": "@jupyter-widgets/base",
          "model_name": "LayoutModel",
          "state": {
            "_view_name": "LayoutView",
            "grid_template_rows": null,
            "right": null,
            "justify_content": null,
            "_view_module": "@jupyter-widgets/base",
            "overflow": null,
            "_model_module_version": "1.2.0",
            "_view_count": null,
            "flex_flow": null,
            "width": null,
            "min_width": null,
            "border": null,
            "align_items": null,
            "bottom": null,
            "_model_module": "@jupyter-widgets/base",
            "top": null,
            "grid_column": null,
            "overflow_y": null,
            "overflow_x": null,
            "grid_auto_flow": null,
            "grid_area": null,
            "grid_template_columns": null,
            "flex": null,
            "_model_name": "LayoutModel",
            "justify_items": null,
            "grid_row": null,
            "max_height": null,
            "align_content": null,
            "visibility": null,
            "align_self": null,
            "height": null,
            "min_height": null,
            "padding": null,
            "grid_auto_rows": null,
            "grid_gap": null,
            "max_width": null,
            "order": null,
            "_view_module_version": "1.2.0",
            "grid_template_areas": null,
            "object_position": null,
            "object_fit": null,
            "grid_auto_columns": null,
            "margin": null,
            "display": null,
            "left": null
          }
        },
        "c711a329793b41c18aa19cedbf8a3c91": {
          "model_module": "@jupyter-widgets/controls",
          "model_name": "HBoxModel",
          "state": {
            "_view_name": "HBoxView",
            "_dom_classes": [],
            "_model_name": "HBoxModel",
            "_view_module": "@jupyter-widgets/controls",
            "_model_module_version": "1.5.0",
            "_view_count": null,
            "_view_module_version": "1.5.0",
            "box_style": "",
            "layout": "IPY_MODEL_f69c627e2f604bff82071ac49a1cce9d",
            "_model_module": "@jupyter-widgets/controls",
            "children": [
              "IPY_MODEL_8a715d6a132349ac9b61f5776f4604f6",
              "IPY_MODEL_ffd7647858d649149582962b65f62f9f"
            ]
          }
        },
        "f69c627e2f604bff82071ac49a1cce9d": {
          "model_module": "@jupyter-widgets/base",
          "model_name": "LayoutModel",
          "state": {
            "_view_name": "LayoutView",
            "grid_template_rows": null,
            "right": null,
            "justify_content": null,
            "_view_module": "@jupyter-widgets/base",
            "overflow": null,
            "_model_module_version": "1.2.0",
            "_view_count": null,
            "flex_flow": null,
            "width": null,
            "min_width": null,
            "border": null,
            "align_items": null,
            "bottom": null,
            "_model_module": "@jupyter-widgets/base",
            "top": null,
            "grid_column": null,
            "overflow_y": null,
            "overflow_x": null,
            "grid_auto_flow": null,
            "grid_area": null,
            "grid_template_columns": null,
            "flex": null,
            "_model_name": "LayoutModel",
            "justify_items": null,
            "grid_row": null,
            "max_height": null,
            "align_content": null,
            "visibility": null,
            "align_self": null,
            "height": null,
            "min_height": null,
            "padding": null,
            "grid_auto_rows": null,
            "grid_gap": null,
            "max_width": null,
            "order": null,
            "_view_module_version": "1.2.0",
            "grid_template_areas": null,
            "object_position": null,
            "object_fit": null,
            "grid_auto_columns": null,
            "margin": null,
            "display": null,
            "left": null
          }
        },
        "8a715d6a132349ac9b61f5776f4604f6": {
          "model_module": "@jupyter-widgets/controls",
          "model_name": "FloatProgressModel",
          "state": {
            "_view_name": "ProgressView",
            "style": "IPY_MODEL_ade677ac5e0546489772c30203a6ce77",
            "_dom_classes": [],
            "description": "100%",
            "_model_name": "FloatProgressModel",
            "bar_style": "success",
            "max": 90,
            "_view_module": "@jupyter-widgets/controls",
            "_model_module_version": "1.5.0",
            "value": 90,
            "_view_count": null,
            "_view_module_version": "1.5.0",
            "orientation": "horizontal",
            "min": 0,
            "description_tooltip": null,
            "_model_module": "@jupyter-widgets/controls",
            "layout": "IPY_MODEL_a1c2f4c64d62495d94b0de265cb94231"
          }
        },
        "ffd7647858d649149582962b65f62f9f": {
          "model_module": "@jupyter-widgets/controls",
          "model_name": "HTMLModel",
          "state": {
            "_view_name": "HTMLView",
            "style": "IPY_MODEL_8c0c71f214d44dd796a1807313e91f7a",
            "_dom_classes": [],
            "description": "",
            "_model_name": "HTMLModel",
            "placeholder": "​",
            "_view_module": "@jupyter-widgets/controls",
            "_model_module_version": "1.5.0",
            "value": " 90/90 [00:00&lt;00:00, 187.25it/s]",
            "_view_count": null,
            "_view_module_version": "1.5.0",
            "description_tooltip": null,
            "_model_module": "@jupyter-widgets/controls",
            "layout": "IPY_MODEL_9dfbcf2d46984a818f780adde5090ca6"
          }
        },
        "ade677ac5e0546489772c30203a6ce77": {
          "model_module": "@jupyter-widgets/controls",
          "model_name": "ProgressStyleModel",
          "state": {
            "_view_name": "StyleView",
            "_model_name": "ProgressStyleModel",
            "description_width": "initial",
            "_view_module": "@jupyter-widgets/base",
            "_model_module_version": "1.5.0",
            "_view_count": null,
            "_view_module_version": "1.2.0",
            "bar_color": null,
            "_model_module": "@jupyter-widgets/controls"
          }
        },
        "a1c2f4c64d62495d94b0de265cb94231": {
          "model_module": "@jupyter-widgets/base",
          "model_name": "LayoutModel",
          "state": {
            "_view_name": "LayoutView",
            "grid_template_rows": null,
            "right": null,
            "justify_content": null,
            "_view_module": "@jupyter-widgets/base",
            "overflow": null,
            "_model_module_version": "1.2.0",
            "_view_count": null,
            "flex_flow": null,
            "width": null,
            "min_width": null,
            "border": null,
            "align_items": null,
            "bottom": null,
            "_model_module": "@jupyter-widgets/base",
            "top": null,
            "grid_column": null,
            "overflow_y": null,
            "overflow_x": null,
            "grid_auto_flow": null,
            "grid_area": null,
            "grid_template_columns": null,
            "flex": null,
            "_model_name": "LayoutModel",
            "justify_items": null,
            "grid_row": null,
            "max_height": null,
            "align_content": null,
            "visibility": null,
            "align_self": null,
            "height": null,
            "min_height": null,
            "padding": null,
            "grid_auto_rows": null,
            "grid_gap": null,
            "max_width": null,
            "order": null,
            "_view_module_version": "1.2.0",
            "grid_template_areas": null,
            "object_position": null,
            "object_fit": null,
            "grid_auto_columns": null,
            "margin": null,
            "display": null,
            "left": null
          }
        },
        "8c0c71f214d44dd796a1807313e91f7a": {
          "model_module": "@jupyter-widgets/controls",
          "model_name": "DescriptionStyleModel",
          "state": {
            "_view_name": "StyleView",
            "_model_name": "DescriptionStyleModel",
            "description_width": "",
            "_view_module": "@jupyter-widgets/base",
            "_model_module_version": "1.5.0",
            "_view_count": null,
            "_view_module_version": "1.2.0",
            "_model_module": "@jupyter-widgets/controls"
          }
        },
        "9dfbcf2d46984a818f780adde5090ca6": {
          "model_module": "@jupyter-widgets/base",
          "model_name": "LayoutModel",
          "state": {
            "_view_name": "LayoutView",
            "grid_template_rows": null,
            "right": null,
            "justify_content": null,
            "_view_module": "@jupyter-widgets/base",
            "overflow": null,
            "_model_module_version": "1.2.0",
            "_view_count": null,
            "flex_flow": null,
            "width": null,
            "min_width": null,
            "border": null,
            "align_items": null,
            "bottom": null,
            "_model_module": "@jupyter-widgets/base",
            "top": null,
            "grid_column": null,
            "overflow_y": null,
            "overflow_x": null,
            "grid_auto_flow": null,
            "grid_area": null,
            "grid_template_columns": null,
            "flex": null,
            "_model_name": "LayoutModel",
            "justify_items": null,
            "grid_row": null,
            "max_height": null,
            "align_content": null,
            "visibility": null,
            "align_self": null,
            "height": null,
            "min_height": null,
            "padding": null,
            "grid_auto_rows": null,
            "grid_gap": null,
            "max_width": null,
            "order": null,
            "_view_module_version": "1.2.0",
            "grid_template_areas": null,
            "object_position": null,
            "object_fit": null,
            "grid_auto_columns": null,
            "margin": null,
            "display": null,
            "left": null
          }
        }
      }
    }
  },
  "cells": [
    {
      "cell_type": "markdown",
      "metadata": {
        "id": "atqZGIIyNSBb"
      },
      "source": [
        "#**Практическое задание №1**"
      ]
    },
    {
      "cell_type": "markdown",
      "metadata": {
        "id": "ga5g3lUhNNBy"
      },
      "source": [
        "Установка необходимых пакетов:"
      ]
    },
    {
      "cell_type": "code",
      "metadata": {
        "id": "TGBk36LpukIu",
        "colab": {
          "base_uri": "https://localhost:8080/"
        },
        "outputId": "8fb22604-61f4-4fa4-a17b-4bb2c0b736b7"
      },
      "source": [
        "!pip install -q libtiff\n",
        "!pip install -q tqdm"
      ],
      "execution_count": 1,
      "outputs": [
        {
          "output_type": "stream",
          "text": [
            "\u001b[?25l\r\u001b[K     |██▌                             | 10kB 26.1MB/s eta 0:00:01\r\u001b[K     |█████                           | 20kB 15.6MB/s eta 0:00:01\r\u001b[K     |███████▋                        | 30kB 13.5MB/s eta 0:00:01\r\u001b[K     |██████████                      | 40kB 12.6MB/s eta 0:00:01\r\u001b[K     |████████████▋                   | 51kB 8.6MB/s eta 0:00:01\r\u001b[K     |███████████████▏                | 61kB 9.0MB/s eta 0:00:01\r\u001b[K     |█████████████████▋              | 71kB 9.2MB/s eta 0:00:01\r\u001b[K     |████████████████████▏           | 81kB 10.2MB/s eta 0:00:01\r\u001b[K     |██████████████████████▊         | 92kB 9.2MB/s eta 0:00:01\r\u001b[K     |█████████████████████████▏      | 102kB 8.3MB/s eta 0:00:01\r\u001b[K     |███████████████████████████▊    | 112kB 8.3MB/s eta 0:00:01\r\u001b[K     |██████████████████████████████▎ | 122kB 8.3MB/s eta 0:00:01\r\u001b[K     |████████████████████████████████| 133kB 8.3MB/s \n",
            "\u001b[?25h  Building wheel for libtiff (setup.py) ... \u001b[?25l\u001b[?25hdone\n"
          ],
          "name": "stdout"
        }
      ]
    },
    {
      "cell_type": "markdown",
      "metadata": {
        "id": "2vQDLyHEO1Ux"
      },
      "source": [
        "Монтирование Вашего Google Drive к текущему окружению:"
      ]
    },
    {
      "cell_type": "code",
      "metadata": {
        "colab": {
          "base_uri": "https://localhost:8080/"
        },
        "id": "5G5KkA1Nu5M9",
        "outputId": "1b8fc662-0fd6-48d6-e1c9-6acda112fba8"
      },
      "source": [
        "from google.colab import drive\n",
        "drive.mount('/content/drive', force_remount=True)"
      ],
      "execution_count": 2,
      "outputs": [
        {
          "output_type": "stream",
          "text": [
            "Mounted at /content/drive\n"
          ],
          "name": "stdout"
        }
      ]
    },
    {
      "cell_type": "markdown",
      "metadata": {
        "id": "E6-mtI6W1y1b"
      },
      "source": [
        "В переменную PROJECT_DIR необходимо прописать путь к директории на Google Drive, в которую Вы загрузили zip архивы с предоставленными наборами данных."
      ]
    },
    {
      "cell_type": "code",
      "metadata": {
        "id": "IdvM-BUTvfSV"
      },
      "source": [
        "# todo\n",
        "PROJECT_DIR = 'MMIP_neuro/'"
      ],
      "execution_count": 3,
      "outputs": []
    },
    {
      "cell_type": "markdown",
      "metadata": {
        "id": "0Num5lHV6912"
      },
      "source": [
        "Константы, которые пригодятся в коде далее:"
      ]
    },
    {
      "cell_type": "code",
      "metadata": {
        "id": "ab2yCwDm7Fqb"
      },
      "source": [
        "EVALUATE_ONLY = False\n",
        "TEST_ON_LARGE_DATASET = True\n",
        "TISSUE_CLASSES = ('ADI', 'BACK', 'DEB', 'LYM', 'MUC', 'MUS', 'NORM', 'STR', 'TUM')"
      ],
      "execution_count": 4,
      "outputs": []
    },
    {
      "cell_type": "markdown",
      "metadata": {
        "id": "fgY-ux5qOI0k"
      },
      "source": [
        "Импорт необходимых зависимостей:"
      ]
    },
    {
      "cell_type": "code",
      "metadata": {
        "id": "kLHQhqiSIyvK"
      },
      "source": [
        "from pathlib import Path\n",
        "from libtiff import TIFF\n",
        "import numpy as np\n",
        "from typing import List\n",
        "from tqdm.notebook import tqdm\n",
        "from time import sleep\n",
        "from PIL import Image\n",
        "import IPython.display\n",
        "from sklearn.metrics import balanced_accuracy_score\n",
        "import tensorflow as tf\n",
        "import matplotlib.pyplot as plt\n"
      ],
      "execution_count": 5,
      "outputs": []
    },
    {
      "cell_type": "markdown",
      "metadata": {
        "id": "zKLI3lUyMYO9"
      },
      "source": [
        "---\n",
        "### Класс Dataset\n",
        "\n",
        "Предназначен для работы с наборами данных, хранящихся на Google Drive, обеспечивает чтение изображений и соответствующих меток, а также формирование пакетов (батчей)."
      ]
    },
    {
      "cell_type": "code",
      "metadata": {
        "id": "8N169efsw1ej"
      },
      "source": [
        "class Dataset:\n",
        "\n",
        "    def __init__(self, name, gdrive_dir):\n",
        "        self.name = name\n",
        "        self.is_loaded = False\n",
        "        p = Path(\"/content/drive/MyDrive/\" + gdrive_dir + name + '.npz') \n",
        "        if p.exists():\n",
        "            print(f'Loading dataset {self.name} from npz.')\n",
        "            np_obj = np.load(str(p))\n",
        "            self.images = np_obj['data']\n",
        "            self.labels = np_obj['labels']\n",
        "            self.n_files = self.images.shape[0]\n",
        "            self.is_loaded = True\n",
        "            print(f'Done. Dataset {name} consists of {self.n_files} images.')\n",
        "        else:\n",
        "          print(\"Error\")\n",
        "\n",
        "\n",
        "    def image(self, i):\n",
        "        # read i-th image in dataset and return it as numpy array\n",
        "        if self.is_loaded:\n",
        "            return self.images[i, :, :, :]\n",
        "\n",
        "    def images_seq(self, n=None):\n",
        "        # sequential access to images inside dataset (is needed for testing)\n",
        "        for i in range(self.n_files if not n else n):\n",
        "            yield self.image(i)\n",
        "\n",
        "    def random_image_with_label(self):\n",
        "        # get random image with label from dataset\n",
        "        i = np.random.randint(self.n_files)\n",
        "        return self.image(i), self.labels[i]\n",
        "  \n",
        "    def random_batch_with_labels(self, n):\n",
        "        # create random batch of images with labels (is needed for training)\n",
        "        indices = np.random.choice(self.n_files, n)\n",
        "        imgs = []\n",
        "        for i in indices:\n",
        "            img = self.image(i)\n",
        "            imgs.append(self.image(i))\n",
        "        logits = np.array([self.labels[i] for i in indices])\n",
        "        return np.stack(imgs), logits\n",
        "\n",
        "    def image_with_label(self, i: int):\n",
        "        # return i-th image with label from dataset\n",
        "        return self.image(i), self.labels[i]"
      ],
      "execution_count": 6,
      "outputs": []
    },
    {
      "cell_type": "code",
      "metadata": {
        "id": "4gtoJqnxpChh"
      },
      "source": [
        "class DataGenerator(tf.keras.utils.Sequence):\r\n",
        "    def __init__(self, name, dir, to_fit=True, batch_size=32, dim=(256,256), n_channels=1, n_classes=10, shuffle=True):\r\n",
        "        self.dataset = Dataset(name, dir)\r\n",
        "        self.to_fit = to_fit\r\n",
        "        self.batch_size = batch_size\r\n",
        "        self.dim = dim\r\n",
        "        self.n_channels = n_channels\r\n",
        "        self.n_classes = n_classes\r\n",
        "        self.shuffle = shuffle\r\n",
        "    \r\n",
        "    def __init__(self, dataset, to_fit=True, batch_size=32, dim=(256,256), n_channels=1, n_classes=10, shuffle=True):\r\n",
        "        self.dataset = dataset\r\n",
        "        self.to_fit = to_fit\r\n",
        "        self.batch_size = batch_size\r\n",
        "        self.dim = dim\r\n",
        "        self.n_channels = n_channels\r\n",
        "        self.n_classes = n_classes\r\n",
        "        self.shuffle = shuffle\r\n",
        "\r\n",
        "    def __len__(self):\r\n",
        "        return int(np.floor(self.dataset.n_files / self.batch_size))\r\n",
        "\r\n",
        "    def __getitem__(self, index):\r\n",
        "        X = np.empty((self.batch_size, *self.dim, self.n_channels))\r\n",
        "        y = np.empty((self.batch_size), dtype=int)\r\n",
        "        if self.to_fit:\r\n",
        "            for i in range (0, self.batch_size):\r\n",
        "                X[i, ], y[i] = self.dataset.image_with_label(i + index * self.batch_size)\r\n",
        "            return X, tf.keras.utils.to_categorical(y, num_classes=self.n_classes)\r\n",
        "        else:\r\n",
        "            for i in range (0, self.batch_size):\r\n",
        "                X[i, ]= self.dataset.image(i + index * self.batch_size)\r\n",
        "            return X"
      ],
      "execution_count": 7,
      "outputs": []
    },
    {
      "cell_type": "markdown",
      "metadata": {
        "id": "M-LvGqeHYgus"
      },
      "source": [
        "### Пример использвания класса Dataset\n",
        "Загрузим обучающий набор данных, получим произвольное изображение с меткой. После чего визуализируем изображение, выведем метку. В будущем, этот кусок кода можно закомментировать или убрать."
      ]
    },
    {
      "cell_type": "code",
      "metadata": {
        "colab": {
          "base_uri": "https://localhost:8080/",
          "height": 358
        },
        "id": "HhObWEjGJ1um",
        "outputId": "f67c162a-143e-4a9a-c21f-f186463382dc"
      },
      "source": [
        "d_train_tiny = Dataset('train_tiny', PROJECT_DIR)\n",
        "\n",
        "img, lbl = d_train_tiny.random_image_with_label()\n",
        "print()\n",
        "print(f'Got numpy array of shape {img.shape}, and label with code {lbl}.')\n",
        "print(f'Label code corresponds to {TISSUE_CLASSES[lbl]} class.')\n",
        "\n",
        "pil_img = Image.fromarray(img)\n",
        "IPython.display.display(pil_img)\n",
        "print(type(pil_img))\n",
        "print(d_train_tiny.n_files)"
      ],
      "execution_count": 8,
      "outputs": [
        {
          "output_type": "stream",
          "text": [
            "Loading dataset train_tiny from npz.\n",
            "Done. Dataset train_tiny consists of 900 images.\n",
            "\n",
            "Got numpy array of shape (224, 224, 3), and label with code 2.\n",
            "Label code corresponds to DEB class.\n"
          ],
          "name": "stdout"
        },
        {
          "output_type": "display_data",
          "data": {
            "image/png": "[encoded data removed]",
            "text/plain": [
              "<PIL.Image.Image image mode=RGB size=224x224 at 0x7FE76C535FD0>"
            ]
          },
          "metadata": {
            "tags": []
          }
        },
        {
          "output_type": "stream",
          "text": [
            "<class 'PIL.Image.Image'>\n",
            "900\n"
          ],
          "name": "stdout"
        }
      ]
    },
    {
      "cell_type": "markdown",
      "metadata": {
        "id": "qaBXXCWeVLYb"
      },
      "source": [
        "---\n",
        "### Класс Metrics\n",
        "\n",
        "Реализует метрики точности, используемые для оценивания модели:\n",
        "1. точность,\n",
        "2. сбалансированную точность."
      ]
    },
    {
      "cell_type": "code",
      "metadata": {
        "id": "5unQ7azTinCZ"
      },
      "source": [
        "class Metrics:\n",
        "\n",
        "    @staticmethod\n",
        "    def accuracy(gt: List[int], pred: List[int]):\n",
        "        assert len(gt) == len(pred), 'gt and prediction should be of equal length'\n",
        "        return sum(int(i[0] == i[1]) for i in zip(gt, pred)) / len(gt)\n",
        "\n",
        "    @staticmethod\n",
        "    def accuracy_balanced(gt: List[int], pred: List[int]):\n",
        "        return balanced_accuracy_score(gt, pred)\n",
        "\n",
        "    @staticmethod\n",
        "    def print_all(gt: List[int], pred: List[int], info: str):\n",
        "        print(f'metrics for {info}:')\n",
        "        print('\\t accuracy {:.4f}:'.format(Metrics.accuracy(gt, pred)))\n",
        "        print('\\t balanced accuracy {:.4f}:'.format(Metrics.accuracy_balanced(gt, pred)))"
      ],
      "execution_count": 9,
      "outputs": []
    },
    {
      "cell_type": "markdown",
      "metadata": {
        "id": "N1AHzTJVGU5k"
      },
      "source": [
        "---\n",
        "### Класс Model\n",
        "\n",
        "Класс, хранящий в себе всю информацию о модели.\n",
        "\n",
        "Вам необходимо реализовать методы save, load для сохранения и заргрузки модели. Особенно актуально это будет во время тестирования на дополнительных наборах данных.\n",
        "\n",
        "> *Пожалуйста, убедитесь, что сохранение и загрузка модели работает корректно. Для этого обучите модель, протестируйте, сохраните ее в файл, перезапустите среду выполнения, загрузите обученную модель из файла, вновь протестируйте ее на тестовой выборке и убедитесь в том, что получаемые метрики совпадают с полученными для тестовой выбрки ранее.*\n",
        "\n",
        "\n",
        "Также, Вы можете реализовать дополнительные функции, такие как:\n",
        "1. валидацию модели на части обучающей выборки;\n",
        "2. использование кроссвалидации;\n",
        "3. автоматическое сохранение модели при обучении;\n",
        "4. загрузку модели с какой-то конкретной итерации обучения (если используется итеративное обучение);\n",
        "5. вывод различных показателей в процессе обучения (например, значение функции потерь на каждой эпохе);\n",
        "6. построение графиков, визуализирующих процесс обучения (например, график зависимости функции потерь от номера эпохи обучения);\n",
        "7. автоматическое тестирование на тестовом наборе/наборах данных после каждой эпохи обучения (при использовании итеративного обучения);\n",
        "8. автоматический выбор гиперпараметров модели во время обучения;\n",
        "9. сохранение и визуализацию результатов тестирования;\n",
        "10. Использование аугментации и других способов синтетического расширения набора данных (дополнительным плюсом будет обоснование необходимости и обоснование выбора конкретных типов аугментации)\n",
        "11. и т.д.\n",
        "\n",
        "Полный список опций и дополнений приведен в презентации с описанием задания.\n",
        "\n",
        "При реализации дополнительных функций допускается добавление параметров в существующие методы и добавление новых методов в класс модели."
      ]
    },
    {
      "cell_type": "code",
      "metadata": {
        "id": "0pkMiB6mJ7JQ"
      },
      "source": [
        "class Model:\n",
        "\n",
        "    def __init__(self):\n",
        "        self.history = dict()\n",
        "        self.model = tf.keras.Sequential()\n",
        "        self.model.add(tf.keras.layers.Conv2D(16, (3, 3), padding = \"same\", activation = 'relu', input_shape = (224, 224, 3), kernel_regularizer = tf.keras.regularizers.l2(0.01)))\n",
        "        self.model.add(tf.keras.layers.Conv2D(16, (3, 3), padding = \"same\", activation = 'relu', kernel_regularizer = tf.keras.regularizers.l2(0.01)))\n",
        "        self.model.add(tf.keras.layers.MaxPool2D(pool_size = (2, 2)))\n",
        "        self.model.add(tf.keras.layers.MaxPool2D(pool_size = (2, 2)))\n",
        "        self.model.add(tf.keras.layers.Dropout(0.2))\n",
        "        self.model.add(tf.keras.layers.Conv2D(32, (3, 3), padding = \"same\",  activation = 'relu', kernel_regularizer = tf.keras.regularizers.l2(0.01)))\n",
        "        self.model.add(tf.keras.layers.Conv2D(64, (3, 3), padding = \"same\",  activation = 'relu', kernel_regularizer = tf.keras.regularizers.l2(0.01)))\n",
        "        self.model.add(tf.keras.layers.MaxPool2D(pool_size = (2, 2)))\n",
        "        self.model.add(tf.keras.layers.MaxPool2D(pool_size = (2, 2)))\n",
        "        self.model.add(tf.keras.layers.Dropout(0.2))\n",
        "        self.model.add(tf.keras.layers.Conv2D(128, (3, 3), padding = \"same\", activation = 'relu', kernel_regularizer = tf.keras.regularizers.l2(0.01)))\n",
        "        self.model.add(tf.keras.layers.Conv2D(256, (3, 3), padding = \"same\", activation = 'relu', kernel_regularizer = tf.keras.regularizers.l2(0.01)))\n",
        "        self.model.add(tf.keras.layers.MaxPool2D(pool_size = (2, 2)))\n",
        "        self.model.add(tf.keras.layers.Dropout(0.2))\n",
        "        self.model.add(tf.keras.layers.Flatten())\n",
        "        self.model.add(tf.keras.layers.Dense(256, activation = 'relu', kernel_regularizer = tf.keras.regularizers.l2(0.01)))\n",
        "        self.model.add(tf.keras.layers.Dropout(0.2))\n",
        "        self.model.add(tf.keras.layers.Dense(9, activation = 'softmax'))\n",
        "        self.model.compile(optimizer = tf.keras.optimizers.Adam(tf.keras.optimizers.schedules.InverseTimeDecay(0.0007, decay_steps = (18000 // 32) * 15, decay_rate = 1, staircase = True)), loss = tf.keras.losses.categorical_crossentropy, metrics = ['accuracy'])\n",
        "\n",
        "    def save(self, name: str):\n",
        "        p = \"/content/drive/MyDrive/\" + PROJECT_DIR\n",
        "        name += '.h5'\n",
        "        self.model.save(str(Path(p) / name))\n",
        "\n",
        "    def load(self, name: str):\n",
        "        p = \"/content/drive/MyDrive/\" + PROJECT_DIR\n",
        "        name += '.h5'\n",
        "        self.model = tf.keras.models.load_model(str(Path(p) / name))\n",
        "        pass\n",
        "\n",
        "    #LBL1\n",
        "    def train(self, dataset: Dataset, n_iters = 5, n_epochs_per_iter = 8):\n",
        "        # you can add some plots for better visualization,\n",
        "        # you can add model autosaving during training,\n",
        "        p = \"/content/drive/MyDrive/\" + PROJECT_DIR\n",
        "        accuracy = []\n",
        "        loss = []\n",
        "        val_accuracy = []\n",
        "        train_generator = DataGenerator(dataset, batch_size = 32, dim = (224, 224), n_channels = 3, n_classes = 9)\n",
        "        history = dict()\n",
        "        for iter in range(0, n_iters):\n",
        "            #LBL2\n",
        "            cur_history = self.model.fit(dataset.images, tf.keras.utils.to_categorical(dataset.labels, num_classes=9), batch_size = 32, epochs = n_epochs_per_iter, validation_data = (d_train.images, tf.keras.utils.to_categorical(d_train.labels, num_classes=9)))\n",
        "            accuracy.extend(cur_history.history['accuracy'])\n",
        "            val_accuracy.extend(cur_history.history['val_accuracy'])\n",
        "            loss.extend(cur_history.history['loss'])\n",
        "            #LBL3\n",
        "            self.model.save(str(Path(p) / 'checkpoint.h5'))\n",
        "        #LBL4\n",
        "        history = dict({'accuracy': accuracy, 'loss': loss, 'val_accuracy': val_accuracy})\n",
        "        #LBL5\n",
        "        line = plt.plot([i for i in range(0, len(accuracy))], accuracy)\n",
        "        plt.setp(line, color='lightcoral', linewidth=2.0, label = \"train_accuracy\")\n",
        "        line = plt.plot([i for i in range(0, len(accuracy))], val_accuracy)\n",
        "        plt.setp(line, color='indigo', linewidth=2.0, label = \"test_accuracy\")\n",
        "        plt.ylabel('accuracy')\n",
        "        plt.xlabel('epochs')\n",
        "        plt.legend(loc = 'lower center')\n",
        "        plt.show()\n",
        "        return history\n",
        "\n",
        "    def test_on_dataset(self, dataset: Dataset, limit=None):\n",
        "        # you can upgrade this code if you want to speed up testing using batches\n",
        "        predictions = []\n",
        "        n = dataset.n_files if not limit else int(dataset.n_files * limit)\n",
        "        for img in tqdm(dataset.images_seq(n), total=n):\n",
        "            predictions.append(self.test_on_image(img))\n",
        "        return predictions\n",
        "\n",
        "    def test_on_image(self, img: np.ndarray):\n",
        "        return np.array(self.model(np.array([img]))).argmax()\n",
        "        \n"
      ],
      "execution_count": 21,
      "outputs": []
    },
    {
      "cell_type": "markdown",
      "metadata": {
        "id": "ZMpTB6lMr00A"
      },
      "source": [
        "---\n",
        "### Классификация изображений\n",
        "\n",
        "Используя введенные выше классы можем перейти уже непосредственно к обучению модели классификации изображений. Пример общего пайплайна решения задачи приведен ниже. Вы можете его расширять и улучшать. В данном примере используются наборы данных 'train_small' и 'test_small'."
      ]
    },
    {
      "cell_type": "code",
      "metadata": {
        "colab": {
          "base_uri": "https://localhost:8080/"
        },
        "id": "5cTOuZD01Up6",
        "outputId": "e1c6736d-aae7-4c10-e060-58394f703e0f"
      },
      "source": [
        "d_train = Dataset('train', PROJECT_DIR)\n",
        "d_test = Dataset('test', PROJECT_DIR)"
      ],
      "execution_count": 11,
      "outputs": [
        {
          "output_type": "stream",
          "text": [
            "Loading dataset train from npz.\n",
            "Done. Dataset train consists of 18000 images.\n",
            "Loading dataset test from npz.\n",
            "Done. Dataset test consists of 4500 images.\n"
          ],
          "name": "stdout"
        }
      ]
    },
    {
      "cell_type": "code",
      "metadata": {
        "colab": {
          "base_uri": "https://localhost:8080/",
          "height": 1000
        },
        "id": "wBi0XpXg8_wq",
        "outputId": "f2125600-284f-46a5-d991-e4341894baad"
      },
      "source": [
        "model = Model()\n",
        "if not EVALUATE_ONLY:\n",
        "    model.train(d_train, 1, 65)\n",
        "    model.save('best')\n",
        "else:\n",
        "    model.load('best')"
      ],
      "execution_count": 22,
      "outputs": [
        {
          "output_type": "stream",
          "text": [
            "Epoch 1/65\n",
            "563/563 [==============================] - 31s 53ms/step - loss: 11.6121 - accuracy: 0.2081 - val_loss: 4.4366 - val_accuracy: 0.4726\n",
            "Epoch 2/65\n",
            "563/563 [==============================] - 29s 51ms/step - loss: 3.8420 - accuracy: 0.5461 - val_loss: 2.6647 - val_accuracy: 0.6297\n",
            "Epoch 3/65\n",
            "563/563 [==============================] - 29s 51ms/step - loss: 2.4458 - accuracy: 0.6461 - val_loss: 2.0651 - val_accuracy: 0.5744\n",
            "Epoch 4/65\n",
            "563/563 [==============================] - 29s 51ms/step - loss: 1.7482 - accuracy: 0.7044 - val_loss: 1.5510 - val_accuracy: 0.6877\n",
            "Epoch 5/65\n",
            "563/563 [==============================] - 29s 51ms/step - loss: 1.3580 - accuracy: 0.7466 - val_loss: 1.2184 - val_accuracy: 0.7515\n",
            "Epoch 6/65\n",
            "563/563 [==============================] - 29s 51ms/step - loss: 1.1049 - accuracy: 0.7876 - val_loss: 1.0635 - val_accuracy: 0.7711\n",
            "Epoch 7/65\n",
            "563/563 [==============================] - 29s 51ms/step - loss: 1.0037 - accuracy: 0.7988 - val_loss: 0.8144 - val_accuracy: 0.8606\n",
            "Epoch 8/65\n",
            "563/563 [==============================] - 29s 51ms/step - loss: 0.9014 - accuracy: 0.8214 - val_loss: 0.7944 - val_accuracy: 0.8476\n",
            "Epoch 9/65\n",
            "563/563 [==============================] - 29s 51ms/step - loss: 0.8395 - accuracy: 0.8314 - val_loss: 0.8178 - val_accuracy: 0.8379\n",
            "Epoch 10/65\n",
            "563/563 [==============================] - 29s 51ms/step - loss: 0.7921 - accuracy: 0.8439 - val_loss: 0.7735 - val_accuracy: 0.8492\n",
            "Epoch 11/65\n",
            "563/563 [==============================] - 29s 51ms/step - loss: 0.7775 - accuracy: 0.8466 - val_loss: 0.6149 - val_accuracy: 0.9072\n",
            "Epoch 12/65\n",
            "563/563 [==============================] - 29s 51ms/step - loss: 0.7515 - accuracy: 0.8506 - val_loss: 0.6650 - val_accuracy: 0.8801\n",
            "Epoch 13/65\n",
            "563/563 [==============================] - 29s 51ms/step - loss: 0.7366 - accuracy: 0.8564 - val_loss: 0.6516 - val_accuracy: 0.8868\n",
            "Epoch 14/65\n",
            "563/563 [==============================] - 29s 51ms/step - loss: 0.7070 - accuracy: 0.8637 - val_loss: 0.7238 - val_accuracy: 0.8638\n",
            "Epoch 15/65\n",
            "563/563 [==============================] - 29s 51ms/step - loss: 0.7129 - accuracy: 0.8627 - val_loss: 0.6218 - val_accuracy: 0.8933\n",
            "Epoch 16/65\n",
            "563/563 [==============================] - 29s 51ms/step - loss: 0.5670 - accuracy: 0.9092 - val_loss: 0.5570 - val_accuracy: 0.8949\n",
            "Epoch 17/65\n",
            "563/563 [==============================] - 29s 51ms/step - loss: 0.5309 - accuracy: 0.9118 - val_loss: 0.4522 - val_accuracy: 0.9403\n",
            "Epoch 18/65\n",
            "563/563 [==============================] - 29s 51ms/step - loss: 0.5352 - accuracy: 0.9058 - val_loss: 0.4565 - val_accuracy: 0.9315\n",
            "Epoch 19/65\n",
            "563/563 [==============================] - 29s 51ms/step - loss: 0.5080 - accuracy: 0.9171 - val_loss: 0.4768 - val_accuracy: 0.9222\n",
            "Epoch 20/65\n",
            "563/563 [==============================] - 29s 51ms/step - loss: 0.5158 - accuracy: 0.9107 - val_loss: 0.4313 - val_accuracy: 0.9368\n",
            "Epoch 21/65\n",
            "563/563 [==============================] - 29s 51ms/step - loss: 0.5029 - accuracy: 0.9114 - val_loss: 0.4589 - val_accuracy: 0.9272\n",
            "Epoch 22/65\n",
            "563/563 [==============================] - 29s 51ms/step - loss: 0.4836 - accuracy: 0.9200 - val_loss: 0.4826 - val_accuracy: 0.9152\n",
            "Epoch 23/65\n",
            "563/563 [==============================] - 29s 51ms/step - loss: 0.4816 - accuracy: 0.9195 - val_loss: 0.4886 - val_accuracy: 0.9168\n",
            "Epoch 24/65\n",
            "563/563 [==============================] - 29s 51ms/step - loss: 0.4889 - accuracy: 0.9187 - val_loss: 0.5738 - val_accuracy: 0.8858\n",
            "Epoch 25/65\n",
            "563/563 [==============================] - 29s 51ms/step - loss: 0.4824 - accuracy: 0.9159 - val_loss: 0.4327 - val_accuracy: 0.9295\n",
            "Epoch 26/65\n",
            "563/563 [==============================] - 29s 51ms/step - loss: 0.4707 - accuracy: 0.9193 - val_loss: 0.4771 - val_accuracy: 0.9144\n",
            "Epoch 27/65\n",
            "563/563 [==============================] - 29s 51ms/step - loss: 0.4637 - accuracy: 0.9218 - val_loss: 0.4837 - val_accuracy: 0.9106\n",
            "Epoch 28/65\n",
            "563/563 [==============================] - 29s 51ms/step - loss: 0.4570 - accuracy: 0.9272 - val_loss: 0.4480 - val_accuracy: 0.9274\n",
            "Epoch 29/65\n",
            "563/563 [==============================] - 29s 51ms/step - loss: 0.4571 - accuracy: 0.9231 - val_loss: 0.4091 - val_accuracy: 0.9386\n",
            "Epoch 30/65\n",
            "563/563 [==============================] - 29s 51ms/step - loss: 0.4524 - accuracy: 0.9246 - val_loss: 0.3975 - val_accuracy: 0.9400\n",
            "Epoch 31/65\n",
            "563/563 [==============================] - 29s 51ms/step - loss: 0.4163 - accuracy: 0.9375 - val_loss: 0.3762 - val_accuracy: 0.9453\n",
            "Epoch 32/65\n",
            "563/563 [==============================] - 29s 51ms/step - loss: 0.4048 - accuracy: 0.9352 - val_loss: 0.3699 - val_accuracy: 0.9454\n",
            "Epoch 33/65\n",
            "563/563 [==============================] - 29s 51ms/step - loss: 0.4018 - accuracy: 0.9371 - val_loss: 0.3585 - val_accuracy: 0.9500\n",
            "Epoch 34/65\n",
            "563/563 [==============================] - 29s 51ms/step - loss: 0.3872 - accuracy: 0.9410 - val_loss: 0.3975 - val_accuracy: 0.9358\n",
            "Epoch 35/65\n",
            "563/563 [==============================] - 29s 51ms/step - loss: 0.3921 - accuracy: 0.9394 - val_loss: 0.4137 - val_accuracy: 0.9262\n",
            "Epoch 36/65\n",
            "563/563 [==============================] - 29s 51ms/step - loss: 0.3795 - accuracy: 0.9414 - val_loss: 0.3719 - val_accuracy: 0.9442\n",
            "Epoch 37/65\n",
            "563/563 [==============================] - 29s 51ms/step - loss: 0.3907 - accuracy: 0.9380 - val_loss: 0.3473 - val_accuracy: 0.9553\n",
            "Epoch 38/65\n",
            "563/563 [==============================] - 29s 51ms/step - loss: 0.3769 - accuracy: 0.9428 - val_loss: 0.3584 - val_accuracy: 0.9496\n",
            "Epoch 39/65\n",
            "563/563 [==============================] - 29s 51ms/step - loss: 0.3905 - accuracy: 0.9398 - val_loss: 0.3440 - val_accuracy: 0.9508\n",
            "Epoch 40/65\n",
            "563/563 [==============================] - 29s 51ms/step - loss: 0.3686 - accuracy: 0.9446 - val_loss: 0.3369 - val_accuracy: 0.9558\n",
            "Epoch 41/65\n",
            "563/563 [==============================] - 29s 51ms/step - loss: 0.3728 - accuracy: 0.9439 - val_loss: 0.4244 - val_accuracy: 0.9188\n",
            "Epoch 42/65\n",
            "563/563 [==============================] - 29s 51ms/step - loss: 0.3745 - accuracy: 0.9406 - val_loss: 0.3334 - val_accuracy: 0.9534\n",
            "Epoch 43/65\n",
            "563/563 [==============================] - 29s 51ms/step - loss: 0.3638 - accuracy: 0.9453 - val_loss: 0.4125 - val_accuracy: 0.9252\n",
            "Epoch 44/65\n",
            "563/563 [==============================] - 29s 51ms/step - loss: 0.3679 - accuracy: 0.9441 - val_loss: 0.3680 - val_accuracy: 0.9426\n",
            "Epoch 45/65\n",
            "563/563 [==============================] - 29s 51ms/step - loss: 0.3888 - accuracy: 0.9374 - val_loss: 0.3451 - val_accuracy: 0.9496\n",
            "Epoch 46/65\n",
            "563/563 [==============================] - 29s 51ms/step - loss: 0.3479 - accuracy: 0.9517 - val_loss: 0.3300 - val_accuracy: 0.9542\n",
            "Epoch 47/65\n",
            "563/563 [==============================] - 29s 51ms/step - loss: 0.3491 - accuracy: 0.9486 - val_loss: 0.3175 - val_accuracy: 0.9563\n",
            "Epoch 48/65\n",
            "563/563 [==============================] - 29s 51ms/step - loss: 0.3441 - accuracy: 0.9484 - val_loss: 0.3165 - val_accuracy: 0.9572\n",
            "Epoch 49/65\n",
            "563/563 [==============================] - 29s 51ms/step - loss: 0.3470 - accuracy: 0.9487 - val_loss: 0.3100 - val_accuracy: 0.9607\n",
            "Epoch 50/65\n",
            "563/563 [==============================] - 29s 51ms/step - loss: 0.3453 - accuracy: 0.9496 - val_loss: 0.3355 - val_accuracy: 0.9504\n",
            "Epoch 51/65\n",
            "563/563 [==============================] - 29s 51ms/step - loss: 0.3312 - accuracy: 0.9524 - val_loss: 0.3109 - val_accuracy: 0.9587\n",
            "Epoch 52/65\n",
            "563/563 [==============================] - 29s 51ms/step - loss: 0.3360 - accuracy: 0.9516 - val_loss: 0.3105 - val_accuracy: 0.9590\n",
            "Epoch 53/65\n",
            "563/563 [==============================] - 29s 51ms/step - loss: 0.3353 - accuracy: 0.9482 - val_loss: 0.3117 - val_accuracy: 0.9555\n",
            "Epoch 54/65\n",
            "563/563 [==============================] - 29s 51ms/step - loss: 0.3259 - accuracy: 0.9549 - val_loss: 0.3164 - val_accuracy: 0.9558\n",
            "Epoch 55/65\n",
            "563/563 [==============================] - 29s 51ms/step - loss: 0.3170 - accuracy: 0.9570 - val_loss: 0.3466 - val_accuracy: 0.9431\n",
            "Epoch 56/65\n",
            "563/563 [==============================] - 29s 51ms/step - loss: 0.3267 - accuracy: 0.9523 - val_loss: 0.3059 - val_accuracy: 0.9604\n",
            "Epoch 57/65\n",
            "563/563 [==============================] - 29s 51ms/step - loss: 0.3307 - accuracy: 0.9511 - val_loss: 0.3038 - val_accuracy: 0.9587\n",
            "Epoch 58/65\n",
            "563/563 [==============================] - 29s 51ms/step - loss: 0.3172 - accuracy: 0.9538 - val_loss: 0.3070 - val_accuracy: 0.9593\n",
            "Epoch 59/65\n",
            "563/563 [==============================] - 29s 51ms/step - loss: 0.3200 - accuracy: 0.9540 - val_loss: 0.2899 - val_accuracy: 0.9642\n",
            "Epoch 60/65\n",
            "563/563 [==============================] - 29s 51ms/step - loss: 0.3228 - accuracy: 0.9504 - val_loss: 0.2972 - val_accuracy: 0.9612\n",
            "Epoch 61/65\n",
            "563/563 [==============================] - 29s 51ms/step - loss: 0.3016 - accuracy: 0.9604 - val_loss: 0.3050 - val_accuracy: 0.9549\n",
            "Epoch 62/65\n",
            "563/563 [==============================] - 29s 51ms/step - loss: 0.3079 - accuracy: 0.9576 - val_loss: 0.2812 - val_accuracy: 0.9654\n",
            "Epoch 63/65\n",
            "563/563 [==============================] - 29s 51ms/step - loss: 0.3064 - accuracy: 0.9577 - val_loss: 0.2795 - val_accuracy: 0.9647\n",
            "Epoch 64/65\n",
            "563/563 [==============================] - 29s 51ms/step - loss: 0.3102 - accuracy: 0.9563 - val_loss: 0.2965 - val_accuracy: 0.9597\n",
            "Epoch 65/65\n",
            "563/563 [==============================] - 29s 51ms/step - loss: 0.2979 - accuracy: 0.9597 - val_loss: 0.3031 - val_accuracy: 0.9584\n"
          ],
          "name": "stdout"
        },
        {
          "output_type": "display_data",
          "data": {
            "image/png": "[encoded data removed]",
            "text/plain": [
              "<Figure size 432x288 with 1 Axes>"
            ]
          },
          "metadata": {
            "tags": [],
            "needs_background": "light"
          }
        }
      ]
    },
    {
      "cell_type": "code",
      "metadata": {
        "colab": {
          "base_uri": "https://localhost:8080/",
          "height": 347
        },
        "id": "NeCt7QppRkrc",
        "outputId": "0f5266ef-bafe-4384-b565-a00d5bd25b3a"
      },
      "source": [
        "\r\n",
        "if not EVALUATE_ONLY:\r\n",
        "    model.train(d_train, 1, 2)\r\n",
        "    model.save('best')\r\n",
        "else:\r\n",
        "    model.load('best')"
      ],
      "execution_count": 28,
      "outputs": [
        {
          "output_type": "stream",
          "text": [
            "Epoch 1/2\n",
            "563/563 [==============================] - 29s 52ms/step - loss: 0.3010 - accuracy: 0.9583 - val_loss: 0.2961 - val_accuracy: 0.9596\n",
            "Epoch 2/2\n",
            "563/563 [==============================] - 29s 52ms/step - loss: 0.2996 - accuracy: 0.9592 - val_loss: 0.2767 - val_accuracy: 0.9648\n"
          ],
          "name": "stdout"
        },
        {
          "output_type": "display_data",
          "data": {
            "image/png": "[encoded data removed]",
            "text/plain": [
              "<Figure size 432x288 with 1 Axes>"
            ]
          },
          "metadata": {
            "tags": [],
            "needs_background": "light"
          }
        }
      ]
    },
    {
      "cell_type": "markdown",
      "metadata": {
        "id": "CcM2EiRMVP93"
      },
      "source": [
        "Пример тестирования модели на части набора данных:"
      ]
    },
    {
      "cell_type": "code",
      "metadata": {
        "colab": {
          "base_uri": "https://localhost:8080/",
          "height": 116,
          "referenced_widgets": [
            "aa7365dc9a494914be4ff4d1bf2f4691",
            "9a5dfe7314884daaa4d30f1262f2f666",
            "71a5e884621443ceafbaa2218e31976e",
            "3b498434282c46068f018a29577ec75a",
            "0843921ed8ff46949581981f1c1268ab",
            "97d84dea0b874535a8d240a8f0569c4e",
            "8672016db9a24ca89d17c90e1684ef2c",
            "d08eb65d17354bc982f39178edf2fd98"
          ]
        },
        "id": "I0AqmeLEKqrs",
        "outputId": "c64706be-f0c9-461d-c80d-88dc149c2c50"
      },
      "source": [
        "# evaluating model on 10% of test dataset\n",
        "pred_1 = model.test_on_dataset(d_test, limit=0.1)\n",
        "Metrics.print_all(d_test.labels[:len(pred_1)], pred_1, '10% of test')"
      ],
      "execution_count": 31,
      "outputs": [
        {
          "output_type": "display_data",
          "data": {
            "application/vnd.jupyter.widget-view+json": {
              "model_id": "aa7365dc9a494914be4ff4d1bf2f4691",
              "version_minor": 0,
              "version_major": 2
            },
            "text/plain": [
              "HBox(children=(FloatProgress(value=0.0, max=450.0), HTML(value='')))"
            ]
          },
          "metadata": {
            "tags": []
          }
        },
        {
          "output_type": "stream",
          "text": [
            "\n",
            "metrics for 10% of test:\n",
            "\t accuracy 1.0000:\n",
            "\t balanced accuracy 1.0000:\n"
          ],
          "name": "stdout"
        }
      ]
    },
    {
      "cell_type": "markdown",
      "metadata": {
        "id": "mSwvHVVzVWZ5"
      },
      "source": [
        "Пример тестирования модели на полном наборе данных:"
      ]
    },
    {
      "cell_type": "code",
      "metadata": {
        "colab": {
          "base_uri": "https://localhost:8080/",
          "height": 116,
          "referenced_widgets": [
            "0ed129451abd476ba7f4d7e4e218396b",
            "a5bedcbb68da4c929b0b1625bc96d582",
            "eeeab83ae4704cb6a90d8b0489e8d257",
            "477ae5ee11084fa3bb1af815e5693fbd",
            "3693ed385f5247e7b468d66dadec8fa1",
            "8abb0d95b4d043dd9319f795befa7e2b",
            "542d3f30da8e412784327cbf1e7a3a62",
            "6aab4f1b81bf44dc8bfeb4dd9a5e18e1"
          ]
        },
        "id": "aEQVjrka65p1",
        "outputId": "a477196c-6558-4947-d5ac-7a6abd6ea0d5"
      },
      "source": [
        "# evaluating model on full test dataset (may take time)\r\n",
        "if TEST_ON_LARGE_DATASET:\r\n",
        "    pred_2 = model.test_on_dataset(d_test)\r\n",
        "    Metrics.print_all(d_test.labels, pred_2, 'test')"
      ],
      "execution_count": 30,
      "outputs": [
        {
          "output_type": "display_data",
          "data": {
            "application/vnd.jupyter.widget-view+json": {
              "model_id": "0ed129451abd476ba7f4d7e4e218396b",
              "version_minor": 0,
              "version_major": 2
            },
            "text/plain": [
              "HBox(children=(FloatProgress(value=0.0, max=4500.0), HTML(value='')))"
            ]
          },
          "metadata": {
            "tags": []
          }
        },
        {
          "output_type": "stream",
          "text": [
            "\n",
            "metrics for test:\n",
            "\t accuracy 0.9536:\n",
            "\t balanced accuracy 0.9536:\n"
          ],
          "name": "stdout"
        }
      ]
    },
    {
      "cell_type": "markdown",
      "metadata": {
        "id": "kvyEHdxEB18o"
      },
      "source": [
        "Результат работы пайплайна обучения и тестирования выше тоже будет оцениваться. Поэтому не забудьте присылать на проверку ноутбук с выполнеными ячейками кода с демонстрациями метрик обучения, графиками и т.п. В этом пайплайне Вам необходимо продемонстрировать работу всех реализованных дополнений, улучшений и т.п.\n",
        "\n",
        "<font color=\"red\">\n",
        "Настоятельно рекомендуется после получения пайплайна с полными результатами обучения экспортировать ноутбук в pdf (файл -> печать) и прислать этот pdf вместе с самим ноутбуком.\n",
        "</font>"
      ]
    },
    {
      "cell_type": "markdown",
      "metadata": {
        "id": "RzSKAvVI6uCW"
      },
      "source": [
        "### Тестирование модели на других наборах данных\n",
        "\n",
        "Ваша модель должна поддерживать тестирование на других наборах данных. Для удобства, Вам предоставляется набор данных test_tiny, который представляет собой малую часть (2% изображений) набора test. Ниже приведен фрагмент кода, который будет осуществлять тестирование для оценивания Вашей модели на дополнительных тестовых наборах данных.\n",
        "\n",
        "<font color=\"red\">\n",
        "Прежде чем отсылать задание на проверку, убедитесь в работоспособности фрагмента кода ниже.\n",
        "</font>"
      ]
    },
    {
      "cell_type": "code",
      "metadata": {
        "colab": {
          "base_uri": "https://localhost:8080/",
          "height": 150,
          "referenced_widgets": [
            "c711a329793b41c18aa19cedbf8a3c91",
            "f69c627e2f604bff82071ac49a1cce9d",
            "8a715d6a132349ac9b61f5776f4604f6",
            "ffd7647858d649149582962b65f62f9f",
            "ade677ac5e0546489772c30203a6ce77",
            "a1c2f4c64d62495d94b0de265cb94231",
            "8c0c71f214d44dd796a1807313e91f7a",
            "9dfbcf2d46984a818f780adde5090ca6"
          ]
        },
        "id": "sdY3uTt87tqv",
        "outputId": "799556f9-5bdd-4dd6-a349-cf121139f023"
      },
      "source": [
        "final_model = Model()\n",
        "final_model.load('best')\n",
        "d_test_tiny = Dataset('test_tiny', PROJECT_DIR)\n",
        "pred = model.test_on_dataset(d_test_tiny)\n",
        "Metrics.print_all(d_test_tiny.labels, pred, 'test-tiny')"
      ],
      "execution_count": 34,
      "outputs": [
        {
          "output_type": "stream",
          "text": [
            "Loading dataset test_tiny from npz.\n",
            "Done. Dataset test_tiny consists of 90 images.\n"
          ],
          "name": "stdout"
        },
        {
          "output_type": "display_data",
          "data": {
            "application/vnd.jupyter.widget-view+json": {
              "model_id": "c711a329793b41c18aa19cedbf8a3c91",
              "version_minor": 0,
              "version_major": 2
            },
            "text/plain": [
              "HBox(children=(FloatProgress(value=0.0, max=90.0), HTML(value='')))"
            ]
          },
          "metadata": {
            "tags": []
          }
        },
        {
          "output_type": "stream",
          "text": [
            "\n",
            "metrics for test-tiny:\n",
            "\t accuracy 0.9333:\n",
            "\t balanced accuracy 0.9333:\n"
          ],
          "name": "stdout"
        }
      ]
    },
    {
      "cell_type": "markdown",
      "metadata": {
        "id": "lPvyj4gscU10"
      },
      "source": [
        "Отмонтировать Google Drive."
      ]
    },
    {
      "cell_type": "code",
      "metadata": {
        "id": "NfX35zNSvFWn"
      },
      "source": [
        "drive.flush_and_unmount()"
      ],
      "execution_count": null,
      "outputs": []
    },
    {
      "cell_type": "markdown",
      "metadata": {
        "id": "RMyDxCDCspcI"
      },
      "source": [
        "---\n",
        "# Дополнительные \"полезности\"\n",
        "\n",
        "Ниже приведены примеры использования различных функций и библиотек, которые могут быть полезны при выполнении данного практического задания."
      ]
    },
    {
      "cell_type": "markdown",
      "metadata": {
        "id": "VvLwSttCs1rB"
      },
      "source": [
        "### Измерение времени работы кода\n",
        "\n",
        "Измерять время работы какой-либо функции можно легко и непринужденно при помощи функции timeit из соответствующего модуля:"
      ]
    },
    {
      "cell_type": "code",
      "metadata": {
        "colab": {
          "base_uri": "https://localhost:8080/"
        },
        "id": "-HnLVhwE9C9S",
        "outputId": "a5d3c1bb-1330-48b8-8ded-8475c6615799"
      },
      "source": [
        "import timeit\n",
        "\n",
        "def factorial(n):\n",
        "    res = 1\n",
        "    for i in range(1, n + 1):\n",
        "        res *= i\n",
        "    return res\n",
        "\n",
        "\n",
        "def f():\n",
        "    return factorial(n=1000)\n",
        "\n",
        "n_runs = 128\n",
        "print(f'Function f is caluclated {n_runs} times in {timeit.timeit(f, number=n_runs)}s.')"
      ],
      "execution_count": null,
      "outputs": [
        {
          "output_type": "stream",
          "text": [
            "Function f is caluclated 128 times in 0.02845212699867261s.\n"
          ],
          "name": "stdout"
        }
      ]
    },
    {
      "cell_type": "markdown",
      "metadata": {
        "id": "fibGVEdguOOi"
      },
      "source": [
        "### Scikit-learn\n",
        "\n",
        "Для использования \"классических\" алгоритмов машинного обучения рекомендуется использовать библиотеку scikit-learn (https://scikit-learn.org/stable/). Пример классификации изображений цифр из набора данных MNIST при помощи классификатора SVM:"
      ]
    },
    {
      "cell_type": "code",
      "metadata": {
        "colab": {
          "base_uri": "https://localhost:8080/",
          "height": 1101
        },
        "id": "vXHnBzEfunAO",
        "outputId": "e8a38dde-238f-4af9-b1b6-bb86ee949574"
      },
      "source": [
        "# Standard scientific Python imports\n",
        "import matplotlib.pyplot as plt\n",
        "\n",
        "# Import datasets, classifiers and performance metrics\n",
        "from sklearn import datasets, svm, metrics\n",
        "from sklearn.model_selection import train_test_split\n",
        "\n",
        "# The digits dataset\n",
        "digits = datasets.load_digits()\n",
        "\n",
        "# The data that we are interested in is made of 8x8 images of digits, let's\n",
        "# have a look at the first 4 images, stored in the `images` attribute of the\n",
        "# dataset.  If we were working from image files, we could load them using\n",
        "# matplotlib.pyplot.imread.  Note that each image must have the same size. For these\n",
        "# images, we know which digit they represent: it is given in the 'target' of\n",
        "# the dataset.\n",
        "_, axes = plt.subplots(2, 4)\n",
        "images_and_labels = list(zip(digits.images, digits.target))\n",
        "for ax, (image, label) in zip(axes[0, :], images_and_labels[:4]):\n",
        "    ax.set_axis_off()\n",
        "    ax.imshow(image, cmap=plt.cm.gray_r, interpolation='nearest')\n",
        "    ax.set_title('Training: %i' % label)\n",
        "\n",
        "# To apply a classifier on this data, we need to flatten the image, to\n",
        "# turn the data in a (samples, feature) matrix:\n",
        "n_samples = len(digits.images)\n",
        "data = digits.images.reshape((n_samples, -1))\n",
        "\n",
        "# Create a classifier: a support vector classifier\n",
        "classifier = svm.SVC(gamma=0.001)\n",
        "\n",
        "# Split data into train and test subsets\n",
        "X_train, X_test, y_train, y_test = train_test_split(\n",
        "    data, digits.target, test_size=0.5, shuffle=False)\n",
        "\n",
        "# We learn the digits on the first half of the digits\n",
        "classifier.fit(X_train, y_train)\n",
        "\n",
        "# Now predict the value of the digit on the second half:\n",
        "predicted = classifier.predict(X_test)\n",
        "\n",
        "images_and_predictions = list(zip(digits.images[n_samples // 2:], predicted))\n",
        "for ax, (image, prediction) in zip(axes[1, :], images_and_predictions[:4]):\n",
        "    ax.set_axis_off()\n",
        "    ax.imshow(image, cmap=plt.cm.gray_r, interpolation='nearest')\n",
        "    ax.set_title('Prediction: %i' % prediction)\n",
        "\n",
        "print(\"Classification report for classifier %s:\\n%s\\n\"\n",
        "      % (classifier, metrics.classification_report(y_test, predicted)))\n",
        "disp = metrics.plot_confusion_matrix(classifier, X_test, y_test)\n",
        "disp.figure_.suptitle(\"Confusion Matrix\")\n",
        "print(\"Confusion matrix:\\n%s\" % disp.confusion_matrix)\n",
        "\n",
        "plt.show()"
      ],
      "execution_count": null,
      "outputs": [
        {
          "output_type": "stream",
          "text": [
            "Classification report for classifier SVC(C=1.0, break_ties=False, cache_size=200, class_weight=None, coef0=0.0,\n",
            "    decision_function_shape='ovr', degree=3, gamma=0.001, kernel='rbf',\n",
            "    max_iter=-1, probability=False, random_state=None, shrinking=True,\n",
            "    tol=0.001, verbose=False):\n",
            "              precision    recall  f1-score   support\n",
            "\n",
            "           0       1.00      0.99      0.99        88\n",
            "           1       0.99      0.97      0.98        91\n",
            "           2       0.99      0.99      0.99        86\n",
            "           3       0.98      0.87      0.92        91\n",
            "           4       0.99      0.96      0.97        92\n",
            "           5       0.95      0.97      0.96        91\n",
            "           6       0.99      0.99      0.99        91\n",
            "           7       0.96      0.99      0.97        89\n",
            "           8       0.94      1.00      0.97        88\n",
            "           9       0.93      0.98      0.95        92\n",
            "\n",
            "    accuracy                           0.97       899\n",
            "   macro avg       0.97      0.97      0.97       899\n",
            "weighted avg       0.97      0.97      0.97       899\n",
            "\n",
            "\n",
            "Confusion matrix:\n",
            "[[87  0  0  0  1  0  0  0  0  0]\n",
            " [ 0 88  1  0  0  0  0  0  1  1]\n",
            " [ 0  0 85  1  0  0  0  0  0  0]\n",
            " [ 0  0  0 79  0  3  0  4  5  0]\n",
            " [ 0  0  0  0 88  0  0  0  0  4]\n",
            " [ 0  0  0  0  0 88  1  0  0  2]\n",
            " [ 0  1  0  0  0  0 90  0  0  0]\n",
            " [ 0  0  0  0  0  1  0 88  0  0]\n",
            " [ 0  0  0  0  0  0  0  0 88  0]\n",
            " [ 0  0  0  1  0  1  0  0  0 90]]\n"
          ],
          "name": "stdout"
        },
        {
          "output_type": "display_data",
          "data": {
            "image/png": "[encoded data removed]",
            "text/plain": [
              "<Figure size 432x288 with 8 Axes>"
            ]
          },
          "metadata": {
            "tags": []
          }
        },
        {
          "output_type": "display_data",
          "data": {
            "image/png": "[encoded data removed]",
            "text/plain": [
              "<Figure size 432x288 with 2 Axes>"
            ]
          },
          "metadata": {
            "tags": []
          }
        }
      ]
    },
    {
      "cell_type": "markdown",
      "metadata": {
        "id": "Uu3Dny5zxcVy"
      },
      "source": [
        "### Scikit-image\n",
        "\n",
        "Реализовывать различные операции для работы с изображениями можно как самостоятельно, работая с массивами numpy, так и используя специализированные библиотеки, например, scikit-image (https://scikit-image.org/). Ниже приведен пример использования Canny edge detector."
      ]
    },
    {
      "cell_type": "code",
      "metadata": {
        "colab": {
          "base_uri": "https://localhost:8080/",
          "height": 192
        },
        "id": "5TZvy_d7xc0B",
        "outputId": "013d39c1-59ce-45ce-aa17-1db79b03ff77"
      },
      "source": [
        "import numpy as np\n",
        "import matplotlib.pyplot as plt\n",
        "from scipy import ndimage as ndi\n",
        "\n",
        "from skimage import feature\n",
        "\n",
        "\n",
        "# Generate noisy image of a square\n",
        "im = np.zeros((128, 128))\n",
        "im[32:-32, 32:-32] = 1\n",
        "\n",
        "im = ndi.rotate(im, 15, mode='constant')\n",
        "im = ndi.gaussian_filter(im, 4)\n",
        "im += 0.2 * np.random.random(im.shape)\n",
        "\n",
        "# Compute the Canny filter for two values of sigma\n",
        "edges1 = feature.canny(im)\n",
        "edges2 = feature.canny(im, sigma=3)\n",
        "\n",
        "# display results\n",
        "fig, (ax1, ax2, ax3) = plt.subplots(nrows=1, ncols=3, figsize=(8, 3),\n",
        "                                    sharex=True, sharey=True)\n",
        "\n",
        "ax1.imshow(im, cmap=plt.cm.gray)\n",
        "ax1.axis('off')\n",
        "ax1.set_title('noisy image', fontsize=20)\n",
        "\n",
        "ax2.imshow(edges1, cmap=plt.cm.gray)\n",
        "ax2.axis('off')\n",
        "ax2.set_title(r'Canny filter, $\\sigma=1$', fontsize=20)\n",
        "\n",
        "ax3.imshow(edges2, cmap=plt.cm.gray)\n",
        "ax3.axis('off')\n",
        "ax3.set_title(r'Canny filter, $\\sigma=3$', fontsize=20)\n",
        "\n",
        "fig.tight_layout()\n",
        "\n",
        "plt.show()"
      ],
      "execution_count": null,
      "outputs": [
        {
          "output_type": "display_data",
          "data": {
            "image/png": "[encoded data removed]",
            "text/plain": [
              "<Figure size 576x216 with 3 Axes>"
            ]
          },
          "metadata": {
            "tags": []
          }
        }
      ]
    },
    {
      "cell_type": "markdown",
      "metadata": {
        "id": "hiEWhGUQRGoH"
      },
      "source": [
        "### Tensorflow 2\n",
        "\n",
        "Для создания и обучения нейросетевых моделей можно использовать фреймворк глубокого обучения Tensorflow 2. Ниже приведен пример простейшей нейроной сети, использующейся для классификации изображений из набора данных MNIST."
      ]
    },
    {
      "cell_type": "code",
      "metadata": {
        "colab": {
          "base_uri": "https://localhost:8080/"
        },
        "id": "kDwLG7A1ReNy",
        "outputId": "f10cc1b2-fab1-4a14-f9cf-894c574fd4c2"
      },
      "source": [
        "# Install TensorFlow\n",
        "\n",
        "import tensorflow as tf\n",
        "\n",
        "mnist = tf.keras.datasets.mnist\n",
        "\n",
        "(x_train, y_train), (x_test, y_test) = mnist.load_data()\n",
        "x_train, x_test = x_train / 255.0, x_test / 255.0\n",
        "\n",
        "model = tf.keras.models.Sequential([\n",
        "  tf.keras.layers.Flatten(input_shape=(28, 28)),\n",
        "  tf.keras.layers.Dense(128, activation='relu'),\n",
        "  tf.keras.layers.Dropout(0.2),\n",
        "  tf.keras.layers.Dense(10, activation='softmax')\n",
        "])\n",
        "\n",
        "model.compile(optimizer='adam',\n",
        "              loss='sparse_categorical_crossentropy',\n",
        "              metrics=['accuracy'])\n",
        "\n",
        "model.fit(x_train, y_train, epochs=5)\n",
        "\n",
        "model.evaluate(x_test,  y_test, verbose=2)"
      ],
      "execution_count": null,
      "outputs": [
        {
          "output_type": "stream",
          "text": [
            "Downloading data from https://storage.googleapis.com/tensorflow/tf-keras-datasets/mnist.npz\n",
            "11493376/11490434 [==============================] - 0s 0us/step\n",
            "Epoch 1/5\n",
            "1875/1875 [==============================] - 6s 3ms/step - loss: 0.4852 - accuracy: 0.8594\n",
            "Epoch 2/5\n",
            "1875/1875 [==============================] - 5s 2ms/step - loss: 0.1515 - accuracy: 0.9559\n",
            "Epoch 3/5\n",
            "1875/1875 [==============================] - 4s 2ms/step - loss: 0.1079 - accuracy: 0.9679\n",
            "Epoch 4/5\n",
            "1875/1875 [==============================] - 4s 2ms/step - loss: 0.0868 - accuracy: 0.9723\n",
            "Epoch 5/5\n",
            "1875/1875 [==============================] - 4s 2ms/step - loss: 0.0726 - accuracy: 0.9776\n",
            "313/313 - 0s - loss: 0.0727 - accuracy: 0.9778\n"
          ],
          "name": "stdout"
        },
        {
          "output_type": "execute_result",
          "data": {
            "text/plain": [
              "[0.07274322211742401, 0.9778000116348267]"
            ]
          },
          "metadata": {
            "tags": []
          },
          "execution_count": 1
        }
      ]
    },
    {
      "cell_type": "code",
      "metadata": {
        "id": "x31OoFyo3Tq-"
      },
      "source": [
        "\r\n",
        "mnist = tf.keras.datasets.mnist\r\n",
        "\r\n",
        "(x_train, y_train), (x_test, y_test) = mnist.load_data()\r\n",
        "x_train, x_test = x_train / 255.0, x_test / 255.0\r\n"
      ],
      "execution_count": null,
      "outputs": []
    },
    {
      "cell_type": "markdown",
      "metadata": {
        "id": "IbvktmLwRu8g"
      },
      "source": [
        "<font color=\"red\">\n",
        "Для эффективной работы с моделями глубокого обучения убедитесь в том, что в текущей среде Google Colab используется аппаратный ускоритель GPU или TPU. Для смены среды выберите \"среда выполнения\" -> \"сменить среду выполнения\".\n",
        "</font>"
      ]
    },
    {
      "cell_type": "markdown",
      "metadata": {
        "id": "nJVNOOU9Sjyf"
      },
      "source": [
        "Большое количество туториалов и примеров с кодом на Tensorflow 2 можно найти на официальном сайте https://www.tensorflow.org/tutorials?hl=ru. "
      ]
    },
    {
      "cell_type": "markdown",
      "metadata": {
        "id": "GVPs3pYpS0U1"
      },
      "source": [
        "Также, Вам может понадобиться написать собственный генератор данных для Tensorflow 2. Скорее всего он будет достаточно простым, и его легко можно будет реализовать, используя официальную документацию TensorFlow 2. Но, на всякий случай (если не удлось сразу разобраться или хочется вникнуть в тему более глубоко), можете посмотреть следующий отличный туториал: https://stanford.edu/~shervine/blog/keras-how-to-generate-data-on-the-fly."
      ]
    },
    {
      "cell_type": "markdown",
      "metadata": {
        "id": "lwI-T0IXyN84"
      },
      "source": [
        "### Numba\n",
        "\n",
        "В некоторых ситуациях, при ручных реализациях графовых алгоритмов, выполнение многократных вложенных циклов for в python можно существенно ускорить, используя JIT-компилятор Numba (https://numba.pydata.org/).\n",
        "Примеры использования Numba в Google Colab можно найти тут:\n",
        "1. https://colab.research.google.com/github/cbernet/maldives/blob/master/numba/numba_cuda.ipynb\n",
        "2. https://colab.research.google.com/github/evaneschneider/parallel-programming/blob/master/COMPASS_gpu_intro.ipynb \n",
        "\n",
        "> Пожалуйста, если Вы решили использовать Numba для решения этого практического задания, еще раз подумайте, нужно ли это Вам, и есть ли возможность реализовать требуемую функциональность иным способом. Используйте Numba только при реальной необходимости.\n",
        "\n"
      ]
    },
    {
      "cell_type": "markdown",
      "metadata": {
        "id": "BxAJ00A76LcF"
      },
      "source": [
        "### Работа с zip архивами в Google Drive\n",
        "\n",
        "Запаковка и распаковка zip архивов может пригодиться при сохранении и загрузки Вашей модели. Ниже приведен фрагмент кода, иллюстрирующий помещение нескольких файлов в zip архив с последующим чтением файлов из него. Все действия с директориями, файлами и архивами должны осущетвляться с примонтированным Google Drive.\n"
      ]
    },
    {
      "cell_type": "markdown",
      "metadata": {
        "id": "ZJiKndOpPu_e"
      },
      "source": [
        "Создадим 2 изображения, поместим их в директорию tmp внутри PROJECT_DIR, запакуем директорию tmp в архив tmp.zip."
      ]
    },
    {
      "cell_type": "code",
      "metadata": {
        "colab": {
          "base_uri": "https://localhost:8080/"
        },
        "id": "CRwgPtv-6nMP",
        "outputId": "4902336d-c9f0-4b64-c821-c2fce3c889e3"
      },
      "source": [
        "arr1 = np.random.rand(100, 100, 3) * 255\n",
        "arr2 = np.random.rand(100, 100, 3) * 255\n",
        "\n",
        "img1 = Image.fromarray(arr1.astype('uint8'))\n",
        "img2 = Image.fromarray(arr2.astype('uint8'))\n",
        "\n",
        "p = \"/content/drive/MyDrive/\" + PROJECT_DIR\n",
        "\n",
        "if not (Path(p) / 'tmp').exists():\n",
        "    (Path(p) / 'tmp').mkdir()\n",
        "\n",
        "img1.save(str(Path(p) / 'tmp' / 'img1.png'))\n",
        "img2.save(str(Path(p) / 'tmp' / 'img2.png'))\n",
        "\n",
        "%cd $p\n",
        "!zip -r \"tmp.zip\" \"tmp\""
      ],
      "execution_count": null,
      "outputs": [
        {
          "output_type": "stream",
          "text": [
            "/content/drive/MyDrive/MMIP_neuro\n",
            "  adding: tmp/ (stored 0%)\n",
            "  adding: tmp/img1.png (stored 0%)\n",
            "  adding: tmp/img2.png (stored 0%)\n"
          ],
          "name": "stdout"
        }
      ]
    },
    {
      "cell_type": "markdown",
      "metadata": {
        "id": "MykrBSWNQQlq"
      },
      "source": [
        "Распакуем архив tmp.zip в директорию tmp2 в PROJECT_DIR. Теперь внутри директории tmp2 содержится директория tmp, внутри которой находятся 2 изображения."
      ]
    },
    {
      "cell_type": "code",
      "metadata": {
        "colab": {
          "base_uri": "https://localhost:8080/"
        },
        "id": "CwSWrYIWMAus",
        "outputId": "18e85ff4-59e7-4331-8702-b95782909a09"
      },
      "source": [
        "p = \"/content/drive/MyDrive/\" + PROJECT_DIR\n",
        "%cd $p\n",
        "!unzip -uq \"tmp.zip\" -d \"tmp2\""
      ],
      "execution_count": null,
      "outputs": [
        {
          "output_type": "stream",
          "text": [
            "/content/drive/MyDrive/MMIP_neuro\n"
          ],
          "name": "stdout"
        }
      ]
    },
    {
      "cell_type": "code",
      "metadata": {
        "id": "SMUl4yA6MMnD"
      },
      "source": [
        ""
      ],
      "execution_count": null,
      "outputs": []
    }
  ]
}